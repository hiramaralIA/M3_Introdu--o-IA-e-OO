{
  "cells": [
    {
      "cell_type": "markdown",
      "metadata": {
        "id": "view-in-github",
        "colab_type": "text"
      },
      "source": [
        "<a href=\"https://colab.research.google.com/github/hiramaralIA/M1M2_HCCA_PAP_PYTHON3-AVANCADO2/blob/main/hcca_M%C3%B3dulos_e_Introdu%C3%A7%C3%A3o_a_Orienta%C3%A7%C3%A3o_a_Objetos_07.ipynb\" target=\"_parent\"><img src=\"https://colab.research.google.com/assets/colab-badge.svg\" alt=\"Open In Colab\"/></a>"
      ]
    },
    {
      "cell_type": "markdown",
      "metadata": {
        "id": "3TfZlaefyvvD"
      },
      "source": [
        "# Mais edições de Gráfico com MatplotLib"
      ]
    },
    {
      "cell_type": "code",
      "execution_count": null,
      "metadata": {
        "id": "qQXAm-4oyvvJ"
      },
      "outputs": [],
      "source": [
        "#importando o matplotlib\n",
        "import matplotlib.pyplot as plt"
      ]
    },
    {
      "cell_type": "markdown",
      "metadata": {
        "id": "19u4MhZtyvvM"
      },
      "source": [
        "- Usando o módulo numpy para trabalhar com números"
      ]
    },
    {
      "cell_type": "code",
      "execution_count": null,
      "metadata": {
        "id": "GBZQ3xJ9yvvM"
      },
      "outputs": [],
      "source": [
        "#importando o módulo numpy\n",
        "import numpy as np"
      ]
    },
    {
      "cell_type": "markdown",
      "metadata": {
        "id": "tj3eeKCsyvvM"
      },
      "source": [
        "### Outros tipos de Gráfico:"
      ]
    },
    {
      "cell_type": "markdown",
      "metadata": {
        "id": "2pZPtRTPyvvN"
      },
      "source": [
        "- Linha"
      ]
    },
    {
      "cell_type": "code",
      "execution_count": null,
      "metadata": {
        "id": "x79njRKVyvvN"
      },
      "outputs": [],
      "source": [
        "vendas = np.random.randint(1000, 3000, 50)\n",
        "meses = np.arange(1, 51)"
      ]
    },
    {
      "cell_type": "code",
      "execution_count": null,
      "metadata": {
        "id": "dLw9lR6GyvvO"
      },
      "outputs": [],
      "source": [
        ""
      ]
    },
    {
      "cell_type": "markdown",
      "metadata": {
        "id": "7O_PUmtgyvvO"
      },
      "source": [
        "- Editando o Gráfico de Linha"
      ]
    },
    {
      "cell_type": "code",
      "execution_count": null,
      "metadata": {
        "id": "VHy0EBaqyvvP"
      },
      "outputs": [],
      "source": [
        ""
      ]
    },
    {
      "cell_type": "code",
      "execution_count": null,
      "metadata": {
        "id": "PFes2r6RyvvP"
      },
      "outputs": [],
      "source": [
        "#editando o tamanho e a cor da linha - quais parâmetros posso editar?"
      ]
    },
    {
      "cell_type": "markdown",
      "metadata": {
        "id": "Vy2slM8iyvvP"
      },
      "source": [
        "- Dispersão"
      ]
    },
    {
      "cell_type": "code",
      "execution_count": null,
      "metadata": {
        "id": "b6Xfk9UXyvvQ"
      },
      "outputs": [],
      "source": [
        ""
      ]
    },
    {
      "cell_type": "markdown",
      "metadata": {
        "id": "FesO-_LFyvvQ"
      },
      "source": [
        "- Barras"
      ]
    },
    {
      "cell_type": "code",
      "execution_count": null,
      "metadata": {
        "id": "sYggwXaWyvvR"
      },
      "outputs": [],
      "source": [
        ""
      ]
    },
    {
      "cell_type": "markdown",
      "metadata": {
        "id": "GNZ-1S4FyvvR"
      },
      "source": [
        "- Trabalhando com Múltiplos Gráficos no mesmo \"Plot\" -> Para melhor visualização/comparação"
      ]
    },
    {
      "cell_type": "code",
      "execution_count": null,
      "metadata": {
        "id": "5Yk-4xpfyvvR"
      },
      "outputs": [],
      "source": [
        ""
      ]
    }
  ],
  "metadata": {
    "kernelspec": {
      "display_name": "Python 3",
      "language": "python",
      "name": "python3"
    },
    "language_info": {
      "codemirror_mode": {
        "name": "ipython",
        "version": 3
      },
      "file_extension": ".py",
      "mimetype": "text/x-python",
      "name": "python",
      "nbconvert_exporter": "python",
      "pygments_lexer": "ipython3",
      "version": "3.8.3"
    },
    "colab": {
      "name": "Módulos e Introdução a Orientação a Objetos 07.ipynb",
      "provenance": [],
      "include_colab_link": true
    }
  },
  "nbformat": 4,
  "nbformat_minor": 0
}