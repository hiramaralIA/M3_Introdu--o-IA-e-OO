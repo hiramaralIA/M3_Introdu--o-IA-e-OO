{
  "cells": [
    {
      "cell_type": "markdown",
      "metadata": {
        "id": "view-in-github",
        "colab_type": "text"
      },
      "source": [
        "<a href=\"https://colab.research.google.com/github/hiramaralIA/M2_CETAM_IA_AULAS_PYTHON-AVANCADO/blob/main/hcca_M%C3%B3dulos_e_Introdu%C3%A7%C3%A3o_a_Orienta%C3%A7%C3%A3o_a_Objetos_02.ipynb\" target=\"_parent\"><img src=\"https://colab.research.google.com/assets/colab-badge.svg\" alt=\"Open In Colab\"/></a>"
      ]
    },
    {
      "cell_type": "markdown",
      "metadata": {
        "id": "CZuxYQkJymcM"
      },
      "source": [
        "# O que são Módulos e qual a importância deles?\n",
        "\n",
        "### Importância\n",
        "\n",
        "- Já tem muita coisa pronta, então você não precisa criar do zero.\n",
        "- Se você souber usar Módulos e como usar um módulo novo, você vai conseguir fazer praticamente tudo no Python\n",
        "\n",
        "### Estrutura Básica"
      ]
    },
    {
      "cell_type": "raw",
      "metadata": {
        "id": "3UnExrRoymcQ"
      },
      "source": [
        "import módulo\n",
        "\n",
        "ou\n",
        "\n",
        "import módulo as nome"
      ]
    },
    {
      "cell_type": "markdown",
      "metadata": {
        "id": "gzAwg_lKymcR"
      },
      "source": [
        "- Exemplo: Como pode fazer o nosso código abrir um site específico na internet?"
      ]
    },
    {
      "cell_type": "code",
      "execution_count": null,
      "metadata": {
        "id": "pnHfSfL-ymcS"
      },
      "outputs": [],
      "source": [
        ""
      ]
    },
    {
      "cell_type": "markdown",
      "metadata": {
        "id": "Alt1vgh3ymcT"
      },
      "source": [
        "### Variações"
      ]
    },
    {
      "cell_type": "raw",
      "metadata": {
        "id": "KwAae7xxymcT"
      },
      "source": [
        "#importar o módulo sem precisar usar o nome dele\n",
        "from modulo import *\n",
        "\n",
        "#importar apenas algumas partes do módulo\n",
        "from modulo import funcao1, funcao2, etc."
      ]
    }
  ],
  "metadata": {
    "kernelspec": {
      "display_name": "Python 3",
      "language": "python",
      "name": "python3"
    },
    "language_info": {
      "codemirror_mode": {
        "name": "ipython",
        "version": 3
      },
      "file_extension": ".py",
      "mimetype": "text/x-python",
      "name": "python",
      "nbconvert_exporter": "python",
      "pygments_lexer": "ipython3",
      "version": "3.8.3"
    },
    "colab": {
      "name": "Módulos e Introdução a Orientação a Objetos 02.ipynb",
      "provenance": [],
      "include_colab_link": true
    }
  },
  "nbformat": 4,
  "nbformat_minor": 0
}