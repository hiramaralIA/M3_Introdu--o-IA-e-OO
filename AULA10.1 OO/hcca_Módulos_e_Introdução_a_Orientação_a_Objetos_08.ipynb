{
  "cells": [
    {
      "cell_type": "markdown",
      "metadata": {
        "id": "view-in-github",
        "colab_type": "text"
      },
      "source": [
        "<a href=\"https://colab.research.google.com/github/hiramaralIA/M1M2_HCCA_PAP_PYTHON3-AVANCADO2/blob/main/hcca_M%C3%B3dulos_e_Introdu%C3%A7%C3%A3o_a_Orienta%C3%A7%C3%A3o_a_Objetos_08.ipynb\" target=\"_parent\"><img src=\"https://colab.research.google.com/assets/colab-badge.svg\" alt=\"Open In Colab\"/></a>"
      ]
    },
    {
      "cell_type": "markdown",
      "metadata": {
        "id": "bc287t7yzTXX"
      },
      "source": [
        "# Como instalar um Módulo/Biblioteca que não tenha no seu computador\n",
        "\n",
        "### Estrutura:\n",
        "\n",
        "- Usaremos o \"pip\" para isso. É um gerenciador de módulos/pacotes/bibliotecas que ajuda a gente a instalar, atualizar, desinstalar novos módulos\n",
        "- Não precisa dominar pip, apenas os comandos que vamos usar aqui mesmo\n",
        "\n",
        "Passo 1: Abrir o Prompt do Anaconda<br>\n",
        "Passo 2: Instalar com o pip os pacotes que quiser<br>\n",
        "Passo 3: Reiniciar o Jupyter (nem sempre necessário, mas na dúvida é melhor fazer)<br>"
      ]
    },
    {
      "cell_type": "code",
      "execution_count": null,
      "metadata": {
        "id": "ZPZf5VI_zTXb"
      },
      "outputs": [],
      "source": [
        "import keyboard\n",
        "\n",
        "keyboard.press_and_release('ctrl+t')\n",
        "\n",
        "keyboard.write('hashtagtreinamentos.com')\n",
        "\n",
        "keyboard.press_and_release('enter')"
      ]
    }
  ],
  "metadata": {
    "kernelspec": {
      "display_name": "Python 3",
      "language": "python",
      "name": "python3"
    },
    "language_info": {
      "codemirror_mode": {
        "name": "ipython",
        "version": 3
      },
      "file_extension": ".py",
      "mimetype": "text/x-python",
      "name": "python",
      "nbconvert_exporter": "python",
      "pygments_lexer": "ipython3",
      "version": "3.8.3"
    },
    "colab": {
      "name": "Módulos e Introdução a Orientação a Objetos 08.ipynb",
      "provenance": [],
      "include_colab_link": true
    }
  },
  "nbformat": 4,
  "nbformat_minor": 0
}