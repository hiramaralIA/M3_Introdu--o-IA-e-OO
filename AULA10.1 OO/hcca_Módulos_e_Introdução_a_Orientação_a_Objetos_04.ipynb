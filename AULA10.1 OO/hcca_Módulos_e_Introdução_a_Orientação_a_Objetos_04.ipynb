{
  "cells": [
    {
      "cell_type": "markdown",
      "metadata": {
        "id": "view-in-github",
        "colab_type": "text"
      },
      "source": [
        "<a href=\"https://colab.research.google.com/github/hiramaralIA/M2_CETAM_IA_AULAS_PYTHON-AVANCADO/blob/main/hcca_M%C3%B3dulos_e_Introdu%C3%A7%C3%A3o_a_Orienta%C3%A7%C3%A3o_a_Objetos_04.ipynb\" target=\"_parent\"><img src=\"https://colab.research.google.com/assets/colab-badge.svg\" alt=\"Open In Colab\"/></a>"
      ]
    },
    {
      "cell_type": "markdown",
      "metadata": {
        "id": "xlF_qAggkWWG"
      },
      "source": [
        "# Módulo time\n",
        "\n",
        "### Estrutura:\n",
        "\n",
        "- Um dos módulos mais usados no Python. Tudo que diz respeito a data, a marcar quanto tempo leva alguma ação, ou a tempo mesmo, o módulo time vai ajudar a gente"
      ]
    },
    {
      "cell_type": "raw",
      "metadata": {
        "id": "9SaLf6VAkWWK"
      },
      "source": [
        "import time"
      ]
    },
    {
      "cell_type": "code",
      "execution_count": null,
      "metadata": {
        "id": "JEzuIpdRkWWL"
      },
      "outputs": [],
      "source": [
        "import time"
      ]
    },
    {
      "cell_type": "markdown",
      "metadata": {
        "id": "JD2a6TVOkWWM"
      },
      "source": [
        "- Marco Zero (chamado de EPOCH) = 1 de Janeiro de 1970 às 00:00:00\n",
        "- time() retorna quantos segundos se passaram desde a EPOCH"
      ]
    },
    {
      "cell_type": "code",
      "execution_count": null,
      "metadata": {
        "id": "CLoOSBopkWWM"
      },
      "outputs": [],
      "source": [
        "segundos_hoje = time.time()\n",
        "print(segundos_hoje)"
      ]
    },
    {
      "cell_type": "markdown",
      "metadata": {
        "id": "rxUHr0b-kWWN"
      },
      "source": [
        "- ctime retorna a data em string o texto no formato UTC (um formato padrão de datas)"
      ]
    },
    {
      "cell_type": "code",
      "execution_count": null,
      "metadata": {
        "id": "qdohkpfPkWWN"
      },
      "outputs": [],
      "source": [
        "data_hoje = time.ctime()\n",
        "#ou entao data_hoje = time.ctime(time())\n",
        "print(data_hoje)"
      ]
    },
    {
      "cell_type": "markdown",
      "metadata": {
        "id": "Ub59eKoBkWWN"
      },
      "source": [
        "- Isso já pode ser muito útil para medir o tempo que uma ação leva, caso seja do interesse:"
      ]
    },
    {
      "cell_type": "code",
      "execution_count": null,
      "metadata": {
        "id": "sf-TIzrbkWWO"
      },
      "outputs": [],
      "source": [
        "tempo_inicial = time.time()\n",
        "for i in range(100000000):\n",
        "    pass\n",
        "tempo_final = time.time()\n",
        "duracao = tempo_final - tempo_inicial\n",
        "print('O programa levou {} segundos para rodar'.format(duracao))"
      ]
    },
    {
      "cell_type": "markdown",
      "metadata": {
        "id": "yoQCSemTkWWO"
      },
      "source": [
        "- Fazer o código esperar alguns segundos (muito útil quando temos que esperar um programa ou uma página carregar)"
      ]
    },
    {
      "cell_type": "code",
      "execution_count": null,
      "metadata": {
        "id": "VvIGqBMokWWP"
      },
      "outputs": [],
      "source": [
        "#para esperar 5 segundos fazemos:\n",
        "print('Começando')\n",
        "time.sleep(5)\n",
        "print('Rodou 5 segundos após')"
      ]
    },
    {
      "cell_type": "markdown",
      "metadata": {
        "id": "2CoPSeI9kWWP"
      },
      "source": [
        "- Pegar informações de dias, hora, segundo, minuto, tudo detalhado:\n",
        "- gmtime()\n",
        "- gmtime().parâmetro"
      ]
    },
    {
      "cell_type": "code",
      "execution_count": null,
      "metadata": {
        "id": "t-A4gWq5kWWP"
      },
      "outputs": [],
      "source": [
        "data_atual = time.gmtime()\n",
        "print(data_atual)"
      ]
    },
    {
      "cell_type": "markdown",
      "metadata": {
        "id": "ttLjvvurkWWQ"
      },
      "source": [
        "- É um objeto diferente, mas podemos pegar os parâmetros de ano, mês, dia, etc fazendo:"
      ]
    },
    {
      "cell_type": "code",
      "execution_count": null,
      "metadata": {
        "id": "SIUfnFc-kWWQ"
      },
      "outputs": [],
      "source": [
        "ano = data_atual.tm_year\n",
        "mes = data_atual.tm_mon\n",
        "dia = data_atual.tm_mday\n",
        "hora = data_atual.tm_hour\n",
        "dia_da_semana = data_atual.tm_wday\n",
        "\n",
        "print('Hoje é dia {}/{}/{}'.format(dia, mes, ano))"
      ]
    }
  ],
  "metadata": {
    "kernelspec": {
      "display_name": "Python 3",
      "language": "python",
      "name": "python3"
    },
    "language_info": {
      "codemirror_mode": {
        "name": "ipython",
        "version": 3
      },
      "file_extension": ".py",
      "mimetype": "text/x-python",
      "name": "python",
      "nbconvert_exporter": "python",
      "pygments_lexer": "ipython3",
      "version": "3.8.3"
    },
    "colab": {
      "name": "Módulos e Introdução a Orientação a Objetos 04.ipynb",
      "provenance": [],
      "include_colab_link": true
    }
  },
  "nbformat": 4,
  "nbformat_minor": 0
}