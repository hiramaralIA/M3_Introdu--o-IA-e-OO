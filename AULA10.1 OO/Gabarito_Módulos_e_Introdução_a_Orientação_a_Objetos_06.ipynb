{
 "cells": [
  {
   "cell_type": "markdown",
   "metadata": {
    "colab_type": "text",
    "id": "view-in-github"
   },
   "source": [
    "<a href=\"https://colab.research.google.com/github/hiramaralIA/M2_CETAM_IA_AULAS_PYTHON-AVANCADO/blob/main/Gabarito_M%C3%B3dulos_e_Introdu%C3%A7%C3%A3o_a_Orienta%C3%A7%C3%A3o_a_Objetos_06.ipynb\" target=\"_parent\"><img src=\"https://colab.research.google.com/assets/colab-badge.svg\" alt=\"Open In Colab\"/></a>"
   ]
  },
  {
   "cell_type": "markdown",
   "metadata": {
    "id": "MvEKIkiP_kCT"
   },
   "source": [
    "# Exibindo Gráficos no Python\n",
    "\n",
    "### Importância\n",
    "\n",
    "- Para exploração e visualização de dados, nada melhor do que usar gráficos para isso. Apesar do Python ser programação, gráficos facilitam d+ em qualquer projeto que trabalhe com dados.\n",
    "\n",
    "### Estrutura\n",
    "\n",
    "- Usaremos o módulo Matplotlib.pyplot, que é o módulo mais usado no Python. Existem outros, como o Seaborn e o Plotly, caso queira ver/usar"
   ]
  },
  {
   "cell_type": "code",
   "execution_count": 5,
   "metadata": {
    "id": "hOC30a8W_kCb",
    "outputId": "746e9ce0-1ddb-4c83-d38b-d4360dcda967"
   },
   "outputs": [
    {
     "ename": "ModuleNotFoundError",
     "evalue": "No module named 'matplotlib'",
     "output_type": "error",
     "traceback": [
      "\u001b[1;31m---------------------------------------------------------------------------\u001b[0m",
      "\u001b[1;31mModuleNotFoundError\u001b[0m                       Traceback (most recent call last)",
      "\u001b[1;32mc:\\Users\\hiram\\Documents\\GitHub\\M2_CETAM_IA_AULAS_PYTHON-AVANCADO\\AULA10.1 OO\\Gabarito_Módulos_e_Introdução_a_Orientação_a_Objetos_06.ipynb Cell 3'\u001b[0m in \u001b[0;36m<cell line: 5>\u001b[1;34m()\u001b[0m\n\u001b[0;32m      <a href='vscode-notebook-cell:/c%3A/Users/hiram/Documents/GitHub/M2_CETAM_IA_AULAS_PYTHON-AVANCADO/AULA10.1%20OO/Gabarito_M%C3%B3dulos_e_Introdu%C3%A7%C3%A3o_a_Orienta%C3%A7%C3%A3o_a_Objetos_06.ipynb#ch0000002?line=1'>2</a>\u001b[0m meses \u001b[39m=\u001b[39m [\u001b[39m'\u001b[39m\u001b[39mjan\u001b[39m\u001b[39m'\u001b[39m, \u001b[39m'\u001b[39m\u001b[39mfev\u001b[39m\u001b[39m'\u001b[39m, \u001b[39m'\u001b[39m\u001b[39mmar\u001b[39m\u001b[39m'\u001b[39m, \u001b[39m'\u001b[39m\u001b[39mabr\u001b[39m\u001b[39m'\u001b[39m, \u001b[39m'\u001b[39m\u001b[39mmai\u001b[39m\u001b[39m'\u001b[39m, \u001b[39m'\u001b[39m\u001b[39mjun\u001b[39m\u001b[39m'\u001b[39m, \u001b[39m'\u001b[39m\u001b[39mjul\u001b[39m\u001b[39m'\u001b[39m, \u001b[39m'\u001b[39m\u001b[39mago\u001b[39m\u001b[39m'\u001b[39m, \u001b[39m'\u001b[39m\u001b[39mset\u001b[39m\u001b[39m'\u001b[39m, \u001b[39m'\u001b[39m\u001b[39mout\u001b[39m\u001b[39m'\u001b[39m, \u001b[39m'\u001b[39m\u001b[39mnov\u001b[39m\u001b[39m'\u001b[39m, \u001b[39m'\u001b[39m\u001b[39mdez\u001b[39m\u001b[39m'\u001b[39m]\n\u001b[0;32m      <a href='vscode-notebook-cell:/c%3A/Users/hiram/Documents/GitHub/M2_CETAM_IA_AULAS_PYTHON-AVANCADO/AULA10.1%20OO/Gabarito_M%C3%B3dulos_e_Introdu%C3%A7%C3%A3o_a_Orienta%C3%A7%C3%A3o_a_Objetos_06.ipynb#ch0000002?line=3'>4</a>\u001b[0m \u001b[39m#plotar o gráfico da forma mais simples\u001b[39;00m\n\u001b[1;32m----> <a href='vscode-notebook-cell:/c%3A/Users/hiram/Documents/GitHub/M2_CETAM_IA_AULAS_PYTHON-AVANCADO/AULA10.1%20OO/Gabarito_M%C3%B3dulos_e_Introdu%C3%A7%C3%A3o_a_Orienta%C3%A7%C3%A3o_a_Objetos_06.ipynb#ch0000002?line=4'>5</a>\u001b[0m \u001b[39mimport\u001b[39;00m \u001b[39mmatplotlib\u001b[39;00m \u001b[39mas\u001b[39;00m \u001b[39mplt\u001b[39;00m\n\u001b[0;32m      <a href='vscode-notebook-cell:/c%3A/Users/hiram/Documents/GitHub/M2_CETAM_IA_AULAS_PYTHON-AVANCADO/AULA10.1%20OO/Gabarito_M%C3%B3dulos_e_Introdu%C3%A7%C3%A3o_a_Orienta%C3%A7%C3%A3o_a_Objetos_06.ipynb#ch0000002?line=6'>7</a>\u001b[0m plt\u001b[39m.\u001b[39mplot(meses, vendas_meses)\n\u001b[0;32m      <a href='vscode-notebook-cell:/c%3A/Users/hiram/Documents/GitHub/M2_CETAM_IA_AULAS_PYTHON-AVANCADO/AULA10.1%20OO/Gabarito_M%C3%B3dulos_e_Introdu%C3%A7%C3%A3o_a_Orienta%C3%A7%C3%A3o_a_Objetos_06.ipynb#ch0000002?line=7'>8</a>\u001b[0m plt\u001b[39m.\u001b[39mylabel(\u001b[39m'\u001b[39m\u001b[39mVendas\u001b[39m\u001b[39m'\u001b[39m)\n",
      "\u001b[1;31mModuleNotFoundError\u001b[0m: No module named 'matplotlib'"
     ]
    }
   ],
   "source": [
    "vendas_meses = [1500, 1727, 1350, 999, 1050, 1027, 1022, 1500, 2000, 2362, 2100, 2762]\n",
    "meses = ['jan', 'fev', 'mar', 'abr', 'mai', 'jun', 'jul', 'ago', 'set', 'out', 'nov', 'dez']\n",
    "\n",
    "#plotar o gráfico da forma mais simples\n",
    "import matplotlib as plt\n",
    "\n",
    "plt.plot(meses, vendas_meses)\n",
    "plt.ylabel('Vendas')\n",
    "plt.xlabel('Meses')\n",
    "plt.axis([0, 12, 0, max(vendas_meses)+500])\n",
    "plt.show()"
   ]
  },
  {
   "cell_type": "markdown",
   "metadata": {
    "id": "JF_5_L7R_kCe"
   },
   "source": [
    "- Adicionar um Label no eixo X ou eixo Y"
   ]
  },
  {
   "cell_type": "markdown",
   "metadata": {
    "id": "vwRkwwDd_kCf"
   },
   "source": [
    "- Mudar os nomes dos meses"
   ]
  },
  {
   "cell_type": "markdown",
   "metadata": {
    "id": "uROpHIze_kCg"
   },
   "source": [
    "- Ajeitando o Eixo"
   ]
  }
 ],
 "metadata": {
  "colab": {
   "include_colab_link": true,
   "name": "Gabarito - Módulos e Introdução a Orientação a Objetos 06.ipynb",
   "provenance": []
  },
  "kernelspec": {
   "display_name": "Python 3 (ipykernel)",
   "language": "python",
   "name": "python3"
  },
  "language_info": {
   "codemirror_mode": {
    "name": "ipython",
    "version": 3
   },
   "file_extension": ".py",
   "mimetype": "text/x-python",
   "name": "python",
   "nbconvert_exporter": "python",
   "pygments_lexer": "ipython3",
   "version": "3.9.12"
  }
 },
 "nbformat": 4,
 "nbformat_minor": 1
}
