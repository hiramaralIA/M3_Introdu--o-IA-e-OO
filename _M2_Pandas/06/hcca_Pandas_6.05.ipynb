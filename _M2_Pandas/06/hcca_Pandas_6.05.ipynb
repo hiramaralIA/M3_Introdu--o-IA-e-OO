{
 "cells": [
  {
   "cell_type": "markdown",
   "metadata": {
    "colab_type": "text",
    "id": "view-in-github"
   },
   "source": [
    "<a href=\"https://colab.research.google.com/github/hiramaralIA/M2_CETAM_IA_AULAS_PYTHON-AVANCADO/blob/main/hcca_Pandas_6.05.ipynb\" target=\"_parent\"><img src=\"https://colab.research.google.com/assets/colab-badge.svg\" alt=\"Open In Colab\"/></a>"
   ]
  },
  {
   "cell_type": "markdown",
   "metadata": {
    "id": "2hFewI1BpFH1"
   },
   "source": [
    "# Resumos e um pouco de Visualização no pandas\n",
    "\n",
    "\n",
    "## Resumo\n",
    "\n",
    "Vamos ver alguns métodos para analisar nossas tabelas (dataframes)\n",
    "\n",
    "Além disso, vamos usar os plot de gráfico padrões do pandas, mas no projeto de DataScience veremos outras mais bonitas e também muito práticas.\n",
    "\n",
    "OBS: O pandas usa o matplotlib (que vimos na seção de \"módulos e bibliotecas\") para plotar gráficos.<br>\n",
    "Se quiser personalizar mais do que o padrão do pandas, importe o matplotlib e use os métodos do matplotlib"
   ]
  },
  {
   "cell_type": "markdown",
   "metadata": {
    "id": "FxaeuWXCpFH4"
   },
   "source": [
    "- Preparando as bases de dados (o que fizemos na última aula)"
   ]
  },
  {
   "cell_type": "code",
   "execution_count": null,
   "metadata": {
    "id": "aBsnZETlpFH5",
    "scrolled": true
   },
   "outputs": [],
   "source": [
    "import pandas as pd\n",
    "#importando os arquivos\n",
    "vendas_df = pd.read_csv(r'Contoso - Vendas  - 2017.csv', sep=';')\n",
    "produtos_df = pd.read_csv(r'Contoso - Cadastro Produtos.csv', sep=';')\n",
    "lojas_df = pd.read_csv(r'Contoso - Lojas.csv', sep=';')\n",
    "clientes_df = pd.read_csv(r'Contoso - Clientes.csv', sep=';')\n",
    "\n",
    "#limpando apenas as colunas que queremos\n",
    "clientes_df = clientes_df[['ID Cliente', 'E-mail']]\n",
    "produtos_df = produtos_df[['ID Produto', 'Nome do Produto']]\n",
    "lojas_df = lojas_df[['ID Loja', 'Nome da Loja']]\n",
    "\n",
    "#mesclando e renomeando os dataframes\n",
    "vendas_df = vendas_df.merge(produtos_df, on='ID Produto')\n",
    "vendas_df = vendas_df.merge(lojas_df, on='ID Loja')\n",
    "vendas_df = vendas_df.merge(clientes_df, on='ID Cliente').rename(columns={'E-mail': 'E-mail do Cliente'})\n",
    "display(vendas_df)"
   ]
  },
  {
   "cell_type": "markdown",
   "metadata": {
    "id": "WhDa7xfTpFH6"
   },
   "source": [
    "### Qual cliente que comprou mais vezes?\n",
    "\n",
    "- Usaremos o método .value_counts() para contar quantas vezes cada valor do Dataframe aparece\n",
    "- Usaremos o método .plot() para exibir um gráfico"
   ]
  },
  {
   "cell_type": "code",
   "execution_count": null,
   "metadata": {
    "id": "vj6PBZDjpFH6"
   },
   "outputs": [],
   "source": []
  },
  {
   "cell_type": "markdown",
   "metadata": {
    "id": "yIho5wJ8pFH7"
   },
   "source": [
    "### Qual a Loja que mais vendeu?\n",
    "\n",
    "- Usaremos o .groupby para agrupar o nosso dataframe, de acordo com o que queremos (somando as quantidades de vendas, por exemplo)"
   ]
  },
  {
   "cell_type": "code",
   "execution_count": null,
   "metadata": {
    "id": "qwSpusxvpFH7"
   },
   "outputs": [],
   "source": []
  },
  {
   "cell_type": "markdown",
   "metadata": {
    "id": "Z6XBxtEZpFH8"
   },
   "source": [
    "- Agora precisamos pegar o maior valor. Temos 2 formas:\n",
    "    1. Ordenar o dataframe em ordem decrescente de Quantidade Vendida\n",
    "        - Método .sort_values\n",
    "    2. Pegar o Maior valor diretamente\n",
    "        - Métodos .max() e .idxmax()"
   ]
  },
  {
   "cell_type": "code",
   "execution_count": null,
   "metadata": {
    "id": "dE-P2c4KpFH8"
   },
   "outputs": [],
   "source": [
    "#ordenando o dataframe\n",
    "\n",
    "#podemos plotar em um gráfico\n"
   ]
  },
  {
   "cell_type": "code",
   "execution_count": null,
   "metadata": {
    "id": "ZJvJMEzFpFH8"
   },
   "outputs": [],
   "source": [
    "#pegando o maior valor e se índice\n"
   ]
  },
  {
   "cell_type": "markdown",
   "metadata": {
    "id": "rDsWi9vUpFH9"
   },
   "source": [
    "### Qual produto que menos vendeu?\n",
    "\n",
    "- Já temos uma lista criada para isso, basta verificarmos o final da lista (já que ela está ordenada) ou então usarmos os métodos:\n",
    "    1. min()\n",
    "    2. idxmin()"
   ]
  },
  {
   "cell_type": "code",
   "execution_count": null,
   "metadata": {
    "id": "4Ox1jLBPpFH9"
   },
   "outputs": [],
   "source": []
  }
 ],
 "metadata": {
  "colab": {
   "include_colab_link": true,
   "name": "Pandas 05.ipynb",
   "provenance": []
  },
  "kernelspec": {
   "display_name": "Python 3 (ipykernel)",
   "language": "python",
   "name": "python3"
  },
  "language_info": {
   "codemirror_mode": {
    "name": "ipython",
    "version": 3
   },
   "file_extension": ".py",
   "mimetype": "text/x-python",
   "name": "python",
   "nbconvert_exporter": "python",
   "pygments_lexer": "ipython3",
   "version": "3.9.12"
  }
 },
 "nbformat": 4,
 "nbformat_minor": 1
}
