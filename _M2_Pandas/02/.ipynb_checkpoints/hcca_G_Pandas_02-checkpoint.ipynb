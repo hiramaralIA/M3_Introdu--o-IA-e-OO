{
 "cells": [
  {
   "cell_type": "markdown",
   "metadata": {
    "colab_type": "text",
    "id": "view-in-github"
   },
   "source": [
    "<a href=\"https://colab.research.google.com/github/hiramaralIA/M1M2_HCCA_PAP_PYTHON3-AVANCADO2/blob/main/hcca_G_Pandas_02.ipynb\" target=\"_parent\"><img src=\"https://colab.research.google.com/assets/colab-badge.svg\" alt=\"Open In Colab\"/></a>"
   ]
  },
  {
   "cell_type": "markdown",
   "metadata": {
    "id": "LThrpY7anTsr"
   },
   "source": [
    "# pandas e csv\n",
    "\n",
    "## Resumo\n",
    "\n",
    "Quase sempre quando formos \"ler\" um arquivo csv, vamos usar o pandas. É prático e bem eficiente.\n",
    "\n",
    "## Funcionamento"
   ]
  },
  {
   "cell_type": "raw",
   "metadata": {
    "id": "_IJduOkenTsu"
   },
   "source": [
    "Forma mais básica: (muitas vezes não usaremos a forma mais básica)\n",
    "dataframe = pd.read_csv(arquivo_com_extensao)"
   ]
  },
  {
   "cell_type": "markdown",
   "metadata": {
    "id": "T6PdsN_9nTsv"
   },
   "source": [
    "- Vamos ler um arquivo real, com a Base de Dados de Vendas da Empresa \"Contoso\"\n",
    "\n",
    "import pandas as pd\n",
    "vendas_df = pd.read_csv(r'.csv', sep=';')\n",
    "vendas_df"
   ]
  },
  {
   "cell_type": "code",
   "execution_count": null,
   "metadata": {},
   "outputs": [],
   "source": [
    "\n"
   ]
  }
 ],
 "metadata": {
  "colab": {
   "include_colab_link": true,
   "name": "Gabarito - Pandas 02.ipynb",
   "provenance": []
  },
  "kernelspec": {
   "display_name": "Python 3 (ipykernel)",
   "language": "python",
   "name": "python3"
  },
  "language_info": {
   "codemirror_mode": {
    "name": "ipython",
    "version": 3
   },
   "file_extension": ".py",
   "mimetype": "text/x-python",
   "name": "python",
   "nbconvert_exporter": "python",
   "pygments_lexer": "ipython3",
   "version": "3.9.12"
  }
 },
 "nbformat": 4,
 "nbformat_minor": 1
}
