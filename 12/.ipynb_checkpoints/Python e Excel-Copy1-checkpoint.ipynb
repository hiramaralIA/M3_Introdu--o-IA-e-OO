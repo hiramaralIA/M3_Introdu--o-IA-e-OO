{
 "cells": [
  {
   "cell_type": "markdown",
   "id": "9acbc885",
   "metadata": {},
   "source": [
    "# Integração Python + Excel\n",
    "\n",
    "### 2 formas:\n",
    "\n",
    "1. Pandas\n",
    "    - Mais usada no geral\n",
    "    - Trata o Excel como uma base de dados\n",
    "    - Faz o que quiser com o arquivo\n",
    "    - Pode desfazer a estrutura original do arquivo, caso queira editar\n",
    "    \n",
    "2. Openpyxl\n",
    "    - Trata o Excel como uma planilha mesmo que pode ter várias coisas\n",
    "    - Edita \"como se fosse um VBA\"\n",
    "    - Menos eficiente\n",
    "    - Mantém mais a estrutura original do arquivo, mas cuidado porque não necessariamente tudo, então tem que testar"
   ]
  },
  {
   "cell_type": "markdown",
   "id": "1da7f8d8",
   "metadata": {},
   "source": [
    "### Desafio\n",
    "\n",
    "- Temos uma planilha de produtos e serviços. Com o aumento de imposto sobre os serviços, temos que atualizar o preço dos produtos impactados pela mudança.\n",
    "\n",
    "Novo Multiplicador Imposto: 1.5"
   ]
  },
  {
   "cell_type": "code",
   "execution_count": null,
   "id": "79673b94",
   "metadata": {
    "scrolled": true
   },
   "outputs": [],
   "source": [
    "# pandas\n",
    "import pandas as pd\n",
    "\n",
    "tabela = pd.read_excel(\"Produtos.xlsx\")\n",
    "display(tabela)"
   ]
  },
  {
   "cell_type": "code",
   "execution_count": 1,
   "id": "a14e0b4c",
   "metadata": {},
   "outputs": [
    {
     "ename": "NameError",
     "evalue": "name 'tabela' is not defined",
     "output_type": "error",
     "traceback": [
      "\u001b[1;31m---------------------------------------------------------------------------\u001b[0m",
      "\u001b[1;31mNameError\u001b[0m                                 Traceback (most recent call last)",
      "Input \u001b[1;32mIn [1]\u001b[0m, in \u001b[0;36m<cell line: 2>\u001b[1;34m()\u001b[0m\n\u001b[0;32m      1\u001b[0m \u001b[38;5;66;03m# atualizar o multiplicador\u001b[39;00m\n\u001b[1;32m----> 2\u001b[0m \u001b[43mtabela\u001b[49m\u001b[38;5;241m.\u001b[39mloc[tabela[\u001b[38;5;124m\"\u001b[39m\u001b[38;5;124mTipo\u001b[39m\u001b[38;5;124m\"\u001b[39m]\u001b[38;5;241m==\u001b[39m\u001b[38;5;124m\"\u001b[39m\u001b[38;5;124mServiço\u001b[39m\u001b[38;5;124m\"\u001b[39m, \u001b[38;5;124m\"\u001b[39m\u001b[38;5;124mMultiplicador Imposto\u001b[39m\u001b[38;5;124m\"\u001b[39m] \u001b[38;5;241m=\u001b[39m \u001b[38;5;241m1.5\u001b[39m\n\u001b[0;32m      4\u001b[0m \u001b[38;5;66;03m# fazer a conta do Preço Base Reais\u001b[39;00m\n\u001b[0;32m      5\u001b[0m tabela[\u001b[38;5;124m\"\u001b[39m\u001b[38;5;124mPreço Base Reais\u001b[39m\u001b[38;5;124m\"\u001b[39m] \u001b[38;5;241m=\u001b[39m tabela[\u001b[38;5;124m\"\u001b[39m\u001b[38;5;124mMultiplicador Imposto\u001b[39m\u001b[38;5;124m\"\u001b[39m] \u001b[38;5;241m*\u001b[39m tabela[\u001b[38;5;124m\"\u001b[39m\u001b[38;5;124mPreço Base Original\u001b[39m\u001b[38;5;124m\"\u001b[39m]\n",
      "\u001b[1;31mNameError\u001b[0m: name 'tabela' is not defined"
     ]
    }
   ],
   "source": [
    "# atualizar o multiplicador\n",
    "tabela.loc[tabela[\"Tipo\"]==\"Serviço\", \"Multiplicador Imposto\"] = 1.5\n",
    "\n",
    "# fazer a conta do Preço Base Reais\n",
    "tabela[\"Preço Base Reais\"] = tabela[\"Multiplicador Imposto\"] * tabela[\"Preço Base Original\"]\n",
    "\n",
    "tabela.to_excel(\"ProdutosPandas.xlsx\", index=False)"
   ]
  },
  {
   "cell_type": "code",
   "execution_count": 5,
   "id": "72efa318",
   "metadata": {},
   "outputs": [],
   "source": [
    "# openpyxl\n",
    "from openpyxl import Workbook, load_workbook\n",
    "\n",
    "planilha = load_workbook(\"Produtos.xlsx\")\n",
    "\n",
    "aba_ativa = planilha.active\n",
    "\n",
    "for celula in aba_ativa[\"C\"]:\n",
    "    if celula.value == \"Serviço\":\n",
    "        linha = celula.row\n",
    "        aba_ativa[f\"D{linha}\"] = 1.5\n",
    "        \n",
    "planilha.save(\"ProdutosOpenPy.xlsx\")"
   ]
  },
  {
   "cell_type": "code",
   "execution_count": null,
   "id": "97b0ef09",
   "metadata": {},
   "outputs": [],
   "source": []
  }
 ],
 "metadata": {
  "kernelspec": {
   "display_name": "Python 3 (ipykernel)",
   "language": "python",
   "name": "python3"
  },
  "language_info": {
   "codemirror_mode": {
    "name": "ipython",
    "version": 3
   },
   "file_extension": ".py",
   "mimetype": "text/x-python",
   "name": "python",
   "nbconvert_exporter": "python",
   "pygments_lexer": "ipython3",
   "version": "3.9.12"
  }
 },
 "nbformat": 4,
 "nbformat_minor": 5
}
