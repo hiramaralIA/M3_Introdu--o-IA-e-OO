{
  "cells": [
    {
      "cell_type": "markdown",
      "metadata": {
        "id": "view-in-github",
        "colab_type": "text"
      },
      "source": [
        "<a href=\"https://colab.research.google.com/github/hiramaralIA/M3_Introdu--o-IA-e-OO/blob/main/hcca_Ambientes_Virtuais.ipynb\" target=\"_parent\"><img src=\"https://colab.research.google.com/assets/colab-badge.svg\" alt=\"Open In Colab\"/></a>"
      ]
    },
    {
      "cell_type": "markdown",
      "metadata": {
        "id": "RkVIW-u2AB7j"
      },
      "source": [
        "# Ambientes Virtuais no Python\n",
        "\n",
        "### Essencialmente usamos o virtualenv, mas o anaconda tem um método próprio para isso\n",
        "\n",
        "### Objetivo: Ter outras versões do Python instalados no computador com 2 objetivos:\n",
        "    \n",
        "    1. Usar ferramentas que funcionam apenas com versões específicas do Python\n",
        "    2. Isolar de todo o resto tudo aquilo que é estritamente necessário para o programa rodar. Importante para sites e programas que vão ser distribuídos\n",
        "    \n",
        "### Observação Importante:\n",
        "\n",
        "Quando você cria um ambiente virtual, ele vem praticamente sem nada, então você precisa usar o pip ou o conda para instalar cada pacote que for usar"
      ]
    },
    {
      "cell_type": "markdown",
      "metadata": {
        "id": "oN12kTvWAB7o"
      },
      "source": [
        "### Comandos importantes do cmd:\n",
        "\n",
        "- Windows:"
      ]
    },
    {
      "cell_type": "raw",
      "metadata": {
        "id": "2X_6NFYxAB7o"
      },
      "source": [
        "cd Pasta -> navega até aquela pasta\n",
        "cd .. -> volta para a pasta anterior\n",
        "dir -> lista os arquivos contidos na pasta"
      ]
    },
    {
      "cell_type": "markdown",
      "metadata": {
        "id": "r0PPDl7nAB7p"
      },
      "source": [
        "- Mac ou Linux"
      ]
    },
    {
      "cell_type": "raw",
      "metadata": {
        "id": "GrPyeKoCAB7q"
      },
      "source": [
        "cd Pasta -> navega até aquela pasta\n",
        "cd .. -> volta para a pasta anterior\n",
        "ls -> lista os arquivos contidos na pasta\n",
        "\n",
        "Obs: Caso o nome da pasta tenha espaço, talvez seja necessário substituir o espaço por \\, exemplo:\n",
        "cd Python Impressionador -> navega até a pasta \"Python Impressionador\"\n",
        "talvez seja necessário fazer:\n",
        "cd Python\\Impressionador"
      ]
    },
    {
      "cell_type": "markdown",
      "metadata": {
        "id": "SMZPx1yuAB7q"
      },
      "source": [
        "### Comandos do Anaconda para Ambiente Virtual:\n",
        "\n",
        "Link com Detalhes: https://docs.conda.io/projects/conda/en/latest/user-guide/tasks/manage-environments.html\n",
        "\n",
        "- Criar ambiente virtual:"
      ]
    },
    {
      "cell_type": "raw",
      "metadata": {
        "id": "E60lVW7OAB7r"
      },
      "source": [
        "conda create -n meuambientevirtual"
      ]
    },
    {
      "cell_type": "markdown",
      "metadata": {
        "id": "ysYYYcH6AB7s"
      },
      "source": [
        "- Criar ambiente virtual com versão específica do Python"
      ]
    },
    {
      "cell_type": "raw",
      "metadata": {
        "id": "GXsKDi9dAB7s"
      },
      "source": [
        "conda create -n meuambientevirtual python=3.6"
      ]
    },
    {
      "cell_type": "markdown",
      "metadata": {
        "id": "5kaKeFCRAB7t"
      },
      "source": [
        "- Remover ambiente virtual"
      ]
    },
    {
      "cell_type": "raw",
      "metadata": {
        "id": "O1BsXDdmAB7t"
      },
      "source": [
        "conda remove --name meuambientevirtual --all"
      ]
    },
    {
      "cell_type": "markdown",
      "metadata": {
        "id": "XgY2ttFKAB7u"
      },
      "source": [
        "- Ativar Ambiente Virtual"
      ]
    },
    {
      "cell_type": "raw",
      "metadata": {
        "id": "9NvYB3G0AB7u"
      },
      "source": [
        "conda activate meuambientevirtual"
      ]
    },
    {
      "cell_type": "markdown",
      "metadata": {
        "id": "FPXqnIPtAB7u"
      },
      "source": [
        "- Desativar ambiente virtual"
      ]
    },
    {
      "cell_type": "raw",
      "metadata": {
        "id": "iz2SFMgTAB7v"
      },
      "source": [
        "conda deactivate"
      ]
    }
  ],
  "metadata": {
    "kernelspec": {
      "display_name": "Python 3",
      "language": "python",
      "name": "python3"
    },
    "language_info": {
      "codemirror_mode": {
        "name": "ipython",
        "version": 3
      },
      "file_extension": ".py",
      "mimetype": "text/x-python",
      "name": "python",
      "nbconvert_exporter": "python",
      "pygments_lexer": "ipython3",
      "version": "3.8.3"
    },
    "colab": {
      "name": "Ambientes Virtuais.ipynb",
      "provenance": [],
      "include_colab_link": true
    }
  },
  "nbformat": 4,
  "nbformat_minor": 0
}