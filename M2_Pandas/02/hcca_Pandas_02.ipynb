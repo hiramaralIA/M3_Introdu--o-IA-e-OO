{
  "cells": [
    {
      "cell_type": "markdown",
      "metadata": {
        "id": "view-in-github",
        "colab_type": "text"
      },
      "source": [
        "<a href=\"https://colab.research.google.com/github/hiramaralIA/M2_CETAM_IA_AULAS_PYTHON-AVANCADO/blob/main/hcca_Pandas_02_Copy1.ipynb\" target=\"_parent\"><img src=\"https://colab.research.google.com/assets/colab-badge.svg\" alt=\"Open In Colab\"/></a>"
      ]
    },
    {
      "cell_type": "markdown",
      "metadata": {
        "id": "0dsMFADSqpBm"
      },
      "source": [
        "# pandas e csv\n",
        "\n",
        "## Resumo\n",
        "\n",
        "Quase sempre quando formos \"ler\" um arquivo csv, vamos usar o pandas. É prático e bem eficiente.\n",
        "\n",
        "## Funcionamento"
      ]
    },
    {
      "cell_type": "raw",
      "metadata": {
        "id": "ND3APZZJqpBs"
      },
      "source": [
        "Forma mais básica: (muitas vezes não usaremos a forma mais básica)\n",
        "dataframe = pd.read_csv(arquivo_com_extensao)"
      ]
    },
    {
      "cell_type": "markdown",
      "metadata": {
        "id": "XyJJu3oEqpBs"
      },
      "source": [
        "- Vamos ler um arquivo real, com a Base de Dados de Vendas da Empresa \"Contoso\""
      ]
    },
    {
      "cell_type": "code",
      "execution_count": null,
      "metadata": {
        "id": "hB9zyKf1qpBt"
      },
      "outputs": [],
      "source": [
        "import pandas as pd\n"
      ]
    }
  ],
  "metadata": {
    "kernelspec": {
      "display_name": "Python 3",
      "language": "python",
      "name": "python3"
    },
    "language_info": {
      "codemirror_mode": {
        "name": "ipython",
        "version": 3
      },
      "file_extension": ".py",
      "mimetype": "text/x-python",
      "name": "python",
      "nbconvert_exporter": "python",
      "pygments_lexer": "ipython3",
      "version": "3.8.3"
    },
    "colab": {
      "name": "Pandas 02-Copy1.ipynb",
      "provenance": [],
      "include_colab_link": true
    }
  },
  "nbformat": 4,
  "nbformat_minor": 0
}