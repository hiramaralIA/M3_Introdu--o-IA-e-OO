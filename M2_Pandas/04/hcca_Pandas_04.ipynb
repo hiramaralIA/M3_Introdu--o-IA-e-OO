{
 "cells": [
  {
   "cell_type": "markdown",
   "metadata": {
    "colab_type": "text",
    "id": "view-in-github"
   },
   "source": [
    "<a href=\"https://colab.research.google.com/github/hiramaralIA/M2_CETAM_IA_AULAS_PYTHON-AVANCADO/blob/main/hcca_Pandas_04.ipynb\" target=\"_parent\"><img src=\"https://colab.research.google.com/assets/colab-badge.svg\" alt=\"Open In Colab\"/></a>"
   ]
  },
  {
   "cell_type": "markdown",
   "metadata": {
    "id": "kFAEVzYuoQIv"
   },
   "source": [
    "# Comparando, Tratando e Mesclando DataFrames\n",
    "\n",
    "## Objetivo\n",
    "\n",
    "Vamos modificar os IDs para os nomes dos produtos, dos clientes e das lojas, para nossas análises ficarem mais intuitivas futuramente. Para isso, vamos criar um data frame com todos os detalhes.\n",
    "\n",
    "- Usaremos o método merge para isso e, depois se quisermos, podemos pegar apenas as colunas que queremos do dataframe final."
   ]
  },
  {
   "cell_type": "markdown",
   "metadata": {
    "id": "yG7d103WoQIy"
   },
   "source": [
    "### Criando nossos dataframes"
   ]
  },
  {
   "cell_type": "code",
   "execution_count": null,
   "metadata": {
    "id": "i984Ne0NoQIz"
   },
   "outputs": [],
   "source": [
    "import pandas as pd\n",
    "\n",
    "#às vezes precisaremos mudar o encoding. Possiveis valores para testar:\n",
    "#encoding='latin1', encoding='ISO-8859-1', encoding='utf-8' ou então encoding='cp1252'\n",
    "vendas_df = pd.read_csv(r'Contoso - Vendas  - 2017.csv', sep=';')\n",
    "\n",
    "\n",
    "#usaremos o display para ver todos os dataframes\n",
    "display(vendas_df)\n"
   ]
  },
  {
   "cell_type": "markdown",
   "metadata": {
    "id": "2jvq0hPwoQI0"
   },
   "source": [
    "### Vamos tirar as colunas inúteis do clientes_df ou pegar apenas as colunas que quisermos"
   ]
  },
  {
   "cell_type": "raw",
   "metadata": {
    "id": "sPnl2PkJoQI1"
   },
   "source": [
    ".drop([coluna1, coluna2, coluna3]) -> retira as colunas: coluna1, coluna2, coluna3"
   ]
  },
  {
   "cell_type": "code",
   "execution_count": null,
   "metadata": {
    "id": "z_9Z8IVNoQI1"
   },
   "outputs": [],
   "source": []
  },
  {
   "cell_type": "markdown",
   "metadata": {
    "id": "oW7NyMXBoQI1"
   },
   "source": [
    "### Agora vamos juntar os dataframes para ter 1 único dataframe com tudo \"bonito\""
   ]
  },
  {
   "cell_type": "raw",
   "metadata": {
    "id": "D4vfX6CJoQI2"
   },
   "source": [
    "novo_dataframe = dataframe1.merge(dataframe2, on='coluna')"
   ]
  },
  {
   "cell_type": "markdown",
   "metadata": {
    "id": "-CxwfD-KoQI2"
   },
   "source": [
    "- Obs: O merge precisa das colunas com o mesmo nome para funcionar. Se não tiver, você precisa alterar o nome da coluna com o .rename"
   ]
  },
  {
   "cell_type": "raw",
   "metadata": {
    "id": "1sapng5XoQI3"
   },
   "source": [
    "dataframe.rename({'coluna1': 'novo_coluna_1'})"
   ]
  },
  {
   "cell_type": "code",
   "execution_count": null,
   "metadata": {
    "id": "8sedLPamoQI3"
   },
   "outputs": [],
   "source": [
    "#juntando os dataframes\n",
    "\n",
    "\n",
    "#exibindo o dataframe final\n"
   ]
  },
  {
   "cell_type": "code",
   "execution_count": null,
   "metadata": {
    "id": "EF1q_0VGoQI4"
   },
   "outputs": [],
   "source": [
    "#vamos renomear o e-mail para ficar claro que é do cliente\n"
   ]
  },
  {
   "cell_type": "markdown",
   "metadata": {
    "id": "IrM1GX44oQI4"
   },
   "source": [
    "### Agora podemos começar as análises"
   ]
  }
 ],
 "metadata": {
  "colab": {
   "include_colab_link": true,
   "name": "Pandas 04.ipynb",
   "provenance": []
  },
  "kernelspec": {
   "display_name": "Python 3 (ipykernel)",
   "language": "python",
   "name": "python3"
  },
  "language_info": {
   "codemirror_mode": {
    "name": "ipython",
    "version": 3
   },
   "file_extension": ".py",
   "mimetype": "text/x-python",
   "name": "python",
   "nbconvert_exporter": "python",
   "pygments_lexer": "ipython3",
   "version": "3.9.12"
  }
 },
 "nbformat": 4,
 "nbformat_minor": 1
}
