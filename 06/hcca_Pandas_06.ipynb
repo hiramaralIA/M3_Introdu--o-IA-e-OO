{
  "cells": [
    {
      "cell_type": "markdown",
      "metadata": {
        "id": "view-in-github",
        "colab_type": "text"
      },
      "source": [
        "<a href=\"https://colab.research.google.com/github/hiramaralIA/M1M2_HCCA_PAP_PYTHON3-AVANCADO2/blob/main/hcca_Pandas_06.ipynb\" target=\"_parent\"><img src=\"https://colab.research.google.com/assets/colab-badge.svg\" alt=\"Open In Colab\"/></a>"
      ]
    },
    {
      "cell_type": "markdown",
      "metadata": {
        "id": "n_YYT9_TGzB_"
      },
      "source": [
        "# Filtrando informações nos dataframes\n",
        "\n",
        "\n",
        "## Resumo\n",
        "\n",
        "Um dos grandes potenciais do pandas é para tratar condições.\n",
        "\n",
        "E a forma com que analisamos condições no dataframe é diferente do que já fizemos até agora no curso, vamos ver como funciona."
      ]
    },
    {
      "cell_type": "markdown",
      "metadata": {
        "id": "ouaGt07UGzCC"
      },
      "source": [
        "- Preparando as bases de dados"
      ]
    },
    {
      "cell_type": "code",
      "execution_count": null,
      "metadata": {
        "scrolled": true,
        "id": "0JtpyT6-GzCC"
      },
      "outputs": [],
      "source": [
        "import pandas as pd\n",
        "#importando os arquivos\n",
        "vendas_df = pd.read_csv(r'Contoso - Vendas  - 2017.csv', sep=';')\n",
        "produtos_df = pd.read_csv(r'Contoso - Cadastro Produtos.csv', sep=';')\n",
        "lojas_df = pd.read_csv(r'Contoso - Lojas.csv', sep=';')\n",
        "clientes_df = pd.read_csv(r'Contoso - Clientes.csv', sep=';')\n",
        "\n",
        "#limpando apenas as colunas que queremos\n",
        "clientes_df = clientes_df[['ID Cliente', 'E-mail']]\n",
        "produtos_df = produtos_df[['ID Produto', 'Nome do Produto']]\n",
        "lojas_df = lojas_df[['ID Loja', 'Nome da Loja']]\n",
        "\n",
        "#mesclando e renomeando os dataframes\n",
        "vendas_df = vendas_df.merge(produtos_df, on='ID Produto')\n",
        "vendas_df = vendas_df.merge(lojas_df, on='ID Loja')\n",
        "vendas_df = vendas_df.merge(clientes_df, on='ID Cliente').rename(columns={'E-mail': 'E-mail do Cliente'})\n",
        "display(vendas_df)"
      ]
    },
    {
      "cell_type": "markdown",
      "metadata": {
        "id": "eQoa-9r-GzCD"
      },
      "source": [
        "### Primeiro, vamos aplicar uma função normalmente. Qual o % das vendas que foi devolvido?\n",
        "\n",
        "- Para isso vamos somar as quantidades nas colunas correspondentes. Lembrando, o % vai ser: Total Devolvido / Total Vendido."
      ]
    },
    {
      "cell_type": "code",
      "execution_count": null,
      "metadata": {
        "id": "GUaz18h9GzCE"
      },
      "outputs": [],
      "source": [
        ""
      ]
    },
    {
      "cell_type": "markdown",
      "metadata": {
        "id": "WhANsZFDGzCE"
      },
      "source": [
        "### Agora, se quisermos fazer a mesma análise apenas para 1 loja. Queremos filtrar apenas os itens da Loja Contoso Europe Online e saber o % de devolução dessa loja.\n",
        "\n",
        "- Para isso, vamos precisar filtrar. A forma de filtrar nos dataframes é uma \"simples\" comparação"
      ]
    },
    {
      "cell_type": "code",
      "execution_count": null,
      "metadata": {
        "scrolled": true,
        "id": "seJkh8dqGzCF"
      },
      "outputs": [],
      "source": [
        ""
      ]
    },
    {
      "cell_type": "markdown",
      "metadata": {
        "id": "YUk0Ot1uGzCF"
      },
      "source": [
        "### Vamos fazer em 2 passos para entender certinho o que está acontecendo."
      ]
    },
    {
      "cell_type": "code",
      "execution_count": null,
      "metadata": {
        "id": "2c4o0SZcGzCG"
      },
      "outputs": [],
      "source": [
        ""
      ]
    },
    {
      "cell_type": "markdown",
      "metadata": {
        "id": "hnuQD4SoGzCG"
      },
      "source": [
        "### Desafio: e se eu quisesse criar uma tabela apenas com as vendas da Loja Contoso Europe Online e que não tiveram nenhuma devolução. Quero criar essa tabela e saber quantas vendas são.\n",
        "\n",
        "- Repare que nesse caso são 2 condições, como fazemos isso?"
      ]
    },
    {
      "cell_type": "code",
      "execution_count": null,
      "metadata": {
        "id": "543BjUOzGzCH"
      },
      "outputs": [],
      "source": [
        "#tudo junto\n",
        "\n",
        "\n",
        "#separado\n"
      ]
    }
  ],
  "metadata": {
    "kernelspec": {
      "display_name": "Python 3",
      "language": "python",
      "name": "python3"
    },
    "language_info": {
      "codemirror_mode": {
        "name": "ipython",
        "version": 3
      },
      "file_extension": ".py",
      "mimetype": "text/x-python",
      "name": "python",
      "nbconvert_exporter": "python",
      "pygments_lexer": "ipython3",
      "version": "3.8.3"
    },
    "colab": {
      "name": "Pandas 06.ipynb",
      "provenance": [],
      "include_colab_link": true
    }
  },
  "nbformat": 4,
  "nbformat_minor": 0
}